{
  "nbformat": 4,
  "nbformat_minor": 0,
  "metadata": {
    "colab": {
      "provenance": [],
      "authorship_tag": "ABX9TyM/lU77KM1exeMCljxuSiCt",
      "include_colab_link": true
    },
    "kernelspec": {
      "name": "python3",
      "display_name": "Python 3"
    },
    "language_info": {
      "name": "python"
    }
  },
  "cells": [
    {
      "cell_type": "markdown",
      "metadata": {
        "id": "view-in-github",
        "colab_type": "text"
      },
      "source": [
        "<a href=\"https://colab.research.google.com/github/leticialsilva-exe/MachineLearning_studies/blob/main/Text_and_Voice_tracking.ipynb\" target=\"_parent\"><img src=\"https://colab.research.google.com/assets/colab-badge.svg\" alt=\"Open In Colab\"/></a>"
      ]
    },
    {
      "cell_type": "markdown",
      "source": [
        "Um módulo para transformação de texto em áudio (text to speech);\n"
      ],
      "metadata": {
        "id": "hy7htvqFHt4W"
      }
    },
    {
      "cell_type": "code",
      "execution_count": 82,
      "metadata": {
        "colab": {
          "base_uri": "https://localhost:8080/"
        },
        "id": "x1Dtz41MHmwF",
        "outputId": "2572d943-3815-46e2-e2e1-8d36f922c3d1",
        "collapsed": true
      },
      "outputs": [
        {
          "output_type": "stream",
          "name": "stdout",
          "text": [
            "Requirement already satisfied: gTTS in /usr/local/lib/python3.11/dist-packages (2.5.4)\n",
            "Requirement already satisfied: requests<3,>=2.27 in /usr/local/lib/python3.11/dist-packages (from gTTS) (2.32.3)\n",
            "Requirement already satisfied: click<8.2,>=7.1 in /usr/local/lib/python3.11/dist-packages (from gTTS) (8.1.8)\n",
            "Requirement already satisfied: charset-normalizer<4,>=2 in /usr/local/lib/python3.11/dist-packages (from requests<3,>=2.27->gTTS) (3.4.1)\n",
            "Requirement already satisfied: idna<4,>=2.5 in /usr/local/lib/python3.11/dist-packages (from requests<3,>=2.27->gTTS) (3.10)\n",
            "Requirement already satisfied: urllib3<3,>=1.21.1 in /usr/local/lib/python3.11/dist-packages (from requests<3,>=2.27->gTTS) (2.3.0)\n",
            "Requirement already satisfied: certifi>=2017.4.17 in /usr/local/lib/python3.11/dist-packages (from requests<3,>=2.27->gTTS) (2024.12.14)\n"
          ]
        }
      ],
      "source": [
        "\n",
        "# instalar a biblioteca gTTS !pip install gTTS\n",
        "\n",
        "!pip install gTTS\n",
        "\n",
        "from gtts import gTTS\n",
        "from IPython.display import Audio\n",
        "\n",
        "text_to_say = \"what's up for tonight?\"\n",
        "language = \"en\"\n",
        "gtts_object = gTTS(text = text_to_say,\n",
        "                  lang = language,\n",
        "                  slow = False)\n",
        "\n",
        "gtts_object.save(\"/content/english.mp3\")\n",
        "\n",
        "########## PORTUGUESE TEXT\n",
        "portuguese_text = \"Hoje tive aulas de direçao\"\n",
        "portuguese_language = \"pt\"\n",
        "portuguese_gtts_object = gTTS(text = portuguese_text,\n",
        "                          lang = portuguese_language,\n",
        "                          slow = False)\n",
        "\n",
        "portuguese_gtts_object.save(\"/content/portuguese.mp3\")"
      ]
    },
    {
      "cell_type": "code",
      "source": [
        "Audio(\"/content/english.mp3\")\n"
      ],
      "metadata": {
        "colab": {
          "base_uri": "https://localhost:8080/",
          "height": 75
        },
        "id": "6ic57q1LoV9X",
        "outputId": "b627b337-75f0-442c-f09b-73cfe3165c68"
      },
      "execution_count": 83,
      "outputs": [
        {
          "output_type": "execute_result",
          "data": {
            "text/plain": [
              "<IPython.lib.display.Audio object>"
            ],
            "text/html": [
              "\n",
              "                <audio  controls=\"controls\" >\n",
              "                    <source src=\"data:audio/mpeg;base64,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\" type=\"audio/mpeg\" />\n",
              "                    Your browser does not support the audio element.\n",
              "                </audio>\n",
              "              "
            ]
          },
          "metadata": {},
          "execution_count": 83
        }
      ]
    },
    {
      "cell_type": "markdown",
      "source": [
        "Um módulo para transformação de fala (linguagem natural humana) em texto (speech to text);\n",
        "\n",
        "O módulo 2, deve acionar por comando de voz algumas funções automatizadas, como por exemplo: abrir uma pesquisa no Wikipedia, abrir o Youtube,   apresentar a localização da farmácia mais próxima."
      ],
      "metadata": {
        "id": "qHUWXgtHKpXq"
      }
    },
    {
      "cell_type": "code",
      "source": [
        "#import section\n",
        "!pip install SpeechRecognition\n",
        "!apt install libasound2-dev portaudio19-dev libportaudio2 libportaudiocpp0 ffmpeg\n",
        "!pip install pyaudio\n",
        "!pip install gtts\n",
        "!pip install playsound\n",
        "!pip install pyjokes\n",
        "!pip install wikipedia\n",
        "#!pip install winshell\n",
        "import speech_recognition as sr\n",
        "from gtts import gTTS\n",
        "import os\n",
        "from datetime import datetime\n",
        "import playsound\n",
        "import pyjokes\n",
        "import wikipedia\n",
        "import pyaudio\n",
        "import webbrowser\n",
        "#import winshell\n",
        "from pygame import mixer"
      ],
      "metadata": {
        "colab": {
          "base_uri": "https://localhost:8080/"
        },
        "id": "z0v0TnjQKpG0",
        "outputId": "3e23367c-7fce-4e9c-c96d-86b2ce2a6b7f",
        "collapsed": true
      },
      "execution_count": null,
      "outputs": [
        {
          "output_type": "stream",
          "name": "stdout",
          "text": [
            "Requirement already satisfied: SpeechRecognition in /usr/local/lib/python3.11/dist-packages (3.14.0)\n",
            "Requirement already satisfied: typing-extensions in /usr/local/lib/python3.11/dist-packages (from SpeechRecognition) (4.12.2)\n",
            "Reading package lists... Done\n",
            "Building dependency tree... Done\n",
            "Reading state information... Done\n",
            "libasound2-dev is already the newest version (1.2.6.1-1ubuntu1).\n",
            "libportaudio2 is already the newest version (19.6.0-1.1).\n",
            "libportaudiocpp0 is already the newest version (19.6.0-1.1).\n",
            "portaudio19-dev is already the newest version (19.6.0-1.1).\n",
            "ffmpeg is already the newest version (7:4.4.2-0ubuntu0.22.04.1).\n",
            "0 upgraded, 0 newly installed, 0 to remove and 49 not upgraded.\n",
            "Requirement already satisfied: pyaudio in /usr/local/lib/python3.11/dist-packages (0.2.14)\n",
            "Requirement already satisfied: gtts in /usr/local/lib/python3.11/dist-packages (2.5.4)\n",
            "Requirement already satisfied: requests<3,>=2.27 in /usr/local/lib/python3.11/dist-packages (from gtts) (2.32.3)\n",
            "Requirement already satisfied: click<8.2,>=7.1 in /usr/local/lib/python3.11/dist-packages (from gtts) (8.1.8)\n",
            "Requirement already satisfied: charset-normalizer<4,>=2 in /usr/local/lib/python3.11/dist-packages (from requests<3,>=2.27->gtts) (3.4.1)\n",
            "Requirement already satisfied: idna<4,>=2.5 in /usr/local/lib/python3.11/dist-packages (from requests<3,>=2.27->gtts) (3.10)\n",
            "Requirement already satisfied: urllib3<3,>=1.21.1 in /usr/local/lib/python3.11/dist-packages (from requests<3,>=2.27->gtts) (2.3.0)\n",
            "Requirement already satisfied: certifi>=2017.4.17 in /usr/local/lib/python3.11/dist-packages (from requests<3,>=2.27->gtts) (2024.12.14)\n",
            "Requirement already satisfied: playsound in /usr/local/lib/python3.11/dist-packages (1.3.0)\n",
            "Requirement already satisfied: pyjokes in /usr/local/lib/python3.11/dist-packages (0.8.3)\n",
            "Requirement already satisfied: wikipedia in /usr/local/lib/python3.11/dist-packages (1.4.0)\n",
            "Requirement already satisfied: beautifulsoup4 in /usr/local/lib/python3.11/dist-packages (from wikipedia) (4.12.3)\n",
            "Requirement already satisfied: requests<3.0.0,>=2.0.0 in /usr/local/lib/python3.11/dist-packages (from wikipedia) (2.32.3)\n",
            "Requirement already satisfied: charset-normalizer<4,>=2 in /usr/local/lib/python3.11/dist-packages (from requests<3.0.0,>=2.0.0->wikipedia) (3.4.1)\n",
            "Requirement already satisfied: idna<4,>=2.5 in /usr/local/lib/python3.11/dist-packages (from requests<3.0.0,>=2.0.0->wikipedia) (3.10)\n",
            "Requirement already satisfied: urllib3<3,>=1.21.1 in /usr/local/lib/python3.11/dist-packages (from requests<3.0.0,>=2.0.0->wikipedia) (2.3.0)\n",
            "Requirement already satisfied: certifi>=2017.4.17 in /usr/local/lib/python3.11/dist-packages (from requests<3.0.0,>=2.0.0->wikipedia) (2024.12.14)\n",
            "Requirement already satisfied: soupsieve>1.2 in /usr/local/lib/python3.11/dist-packages (from beautifulsoup4->wikipedia) (2.6)\n",
            "Requirement already satisfied: pygame in /usr/local/lib/python3.11/dist-packages (2.6.1)\n",
            "Reading package lists... Done\n",
            "Building dependency tree... Done\n",
            "Reading state information... Done\n",
            "The following additional packages will be installed:\n",
            "  libatopology2 libfftw3-single3\n",
            "Suggested packages:\n",
            "  dialog libfftw3-bin libfftw3-dev\n",
            "The following NEW packages will be installed:\n",
            "  alsa-utils libatopology2 libfftw3-single3\n",
            "0 upgraded, 3 newly installed, 0 to remove and 49 not upgraded.\n",
            "Need to get 2,028 kB of archives.\n",
            "After this operation, 5,142 kB of additional disk space will be used.\n",
            "Get:1 http://archive.ubuntu.com/ubuntu jammy/main amd64 libatopology2 amd64 1.2.6.1-1ubuntu1 [51.3 kB]\n",
            "Get:2 http://archive.ubuntu.com/ubuntu jammy/main amd64 libfftw3-single3 amd64 3.3.8-2ubuntu8 [800 kB]\n",
            "Get:3 http://archive.ubuntu.com/ubuntu jammy/main amd64 alsa-utils amd64 1.2.6-1ubuntu1 [1,177 kB]\n",
            "Fetched 2,028 kB in 1s (2,382 kB/s)\n",
            "Selecting previously unselected package libatopology2:amd64.\n",
            "(Reading database ... 124609 files and directories currently installed.)\n",
            "Preparing to unpack .../libatopology2_1.2.6.1-1ubuntu1_amd64.deb ...\n",
            "Unpacking libatopology2:amd64 (1.2.6.1-1ubuntu1) ...\n",
            "Selecting previously unselected package libfftw3-single3:amd64.\n",
            "Preparing to unpack .../libfftw3-single3_3.3.8-2ubuntu8_amd64.deb ...\n",
            "Unpacking libfftw3-single3:amd64 (3.3.8-2ubuntu8) ...\n",
            "Selecting previously unselected package alsa-utils.\n",
            "Preparing to unpack .../alsa-utils_1.2.6-1ubuntu1_amd64.deb ...\n",
            "Unpacking alsa-utils (1.2.6-1ubuntu1) ...\n",
            "Setting up libfftw3-single3:amd64 (3.3.8-2ubuntu8) ...\n",
            "Setting up libatopology2:amd64 (1.2.6.1-1ubuntu1) ...\n",
            "Setting up alsa-utils (1.2.6-1ubuntu1) ...\n",
            "Processing triggers for man-db (2.10.2-1) ...\n",
            "Processing triggers for libc-bin (2.35-0ubuntu3.4) ...\n",
            "/sbin/ldconfig.real: /usr/local/lib/libur_adapter_opencl.so.0 is not a symbolic link\n",
            "\n",
            "/sbin/ldconfig.real: /usr/local/lib/libtcm.so.1 is not a symbolic link\n",
            "\n",
            "/sbin/ldconfig.real: /usr/local/lib/libtbb.so.12 is not a symbolic link\n",
            "\n",
            "/sbin/ldconfig.real: /usr/local/lib/libtbbbind_2_5.so.3 is not a symbolic link\n",
            "\n",
            "/sbin/ldconfig.real: /usr/local/lib/libumf.so.0 is not a symbolic link\n",
            "\n",
            "/sbin/ldconfig.real: /usr/local/lib/libur_adapter_level_zero.so.0 is not a symbolic link\n",
            "\n",
            "/sbin/ldconfig.real: /usr/local/lib/libur_loader.so.0 is not a symbolic link\n",
            "\n",
            "/sbin/ldconfig.real: /usr/local/lib/libtbbmalloc.so.2 is not a symbolic link\n",
            "\n",
            "/sbin/ldconfig.real: /usr/local/lib/libtbbmalloc_proxy.so.2 is not a symbolic link\n",
            "\n",
            "/sbin/ldconfig.real: /usr/local/lib/libtcm_debug.so.1 is not a symbolic link\n",
            "\n",
            "/sbin/ldconfig.real: /usr/local/lib/libtbbbind_2_0.so.3 is not a symbolic link\n",
            "\n",
            "/sbin/ldconfig.real: /usr/local/lib/libhwloc.so.15 is not a symbolic link\n",
            "\n",
            "/sbin/ldconfig.real: /usr/local/lib/libtbbbind.so.3 is not a symbolic link\n",
            "\n"
          ]
        }
      ]
    },
    {
      "cell_type": "code",
      "source": [
        "!apt-get update\n",
        "!apt-get install alsa-utils"
      ],
      "metadata": {
        "id": "EVrqgLZbcCpY"
      },
      "execution_count": null,
      "outputs": []
    },
    {
      "cell_type": "code",
      "source": [
        "#Recording audio\n",
        "!pip install ffmpeg-python\n",
        "from IPython.display import HTML, Audio\n",
        "from google.colab.output import eval_js\n",
        "from base64 import b64decode\n",
        "import numpy as np\n",
        "from scipy.io.wavfile import read as wav_read\n",
        "import io\n",
        "import ffmpeg\n",
        "\n",
        "AUDIO_HTML = \"\"\"\n",
        "<script>\n",
        "var my_div = document.createElement(\"DIV\");\n",
        "var my_p = document.createElement(\"P\");\n",
        "var my_btn = document.createElement(\"BUTTON\");\n",
        "var t = document.createTextNode(\"Press to start recording\");\n",
        "\n",
        "my_btn.appendChild(t);\n",
        "//my_p.appendChild(my_btn);\n",
        "my_div.appendChild(my_btn);\n",
        "document.body.appendChild(my_div);\n",
        "\n",
        "var base64data = 0;\n",
        "var reader;\n",
        "var recorder, gumStream;\n",
        "var recordButton = my_btn;\n",
        "\n",
        "var handleSuccess = function(stream) {\n",
        "  gumStream = stream;\n",
        "  var options = {\n",
        "    //bitsPerSecond: 8000, //chrome seems to ignore, always 48k\n",
        "    mimeType : 'audio/webm;codecs=opus'\n",
        "    //mimeType : 'audio/webm;codecs=pcm'\n",
        "  };\n",
        "  //recorder = new MediaRecorder(stream, options);\n",
        "  recorder = new MediaRecorder(stream);\n",
        "  recorder.ondataavailable = function(e) {\n",
        "    var url = URL.createObjectURL(e.data);\n",
        "    var preview = document.createElement('audio');\n",
        "    preview.controls = true;\n",
        "    preview.src = url;\n",
        "    document.body.appendChild(preview);\n",
        "\n",
        "    reader = new FileReader();\n",
        "    reader.readAsDataURL(e.data);\n",
        "    reader.onloadend = function() {\n",
        "      base64data = reader.result;\n",
        "      //console.log(\"Inside FileReader:\" + base64data);\n",
        "    }\n",
        "  };\n",
        "  recorder.start();\n",
        "  };\n",
        "\n",
        "recordButton.innerText = \"Recording... press to stop\";\n",
        "\n",
        "navigator.mediaDevices.getUserMedia({audio: true}).then(handleSuccess);\n",
        "\n",
        "\n",
        "function toggleRecording() {\n",
        "  if (recorder && recorder.state == \"recording\") {\n",
        "      recorder.stop();\n",
        "      gumStream.getAudioTracks()[0].stop();\n",
        "      recordButton.innerText = \"Saving the recording... pls wait!\"\n",
        "  }\n",
        "}\n",
        "\n",
        "// https://stackoverflow.com/a/951057\n",
        "function sleep(ms) {\n",
        "  return new Promise(resolve => setTimeout(resolve, ms));\n",
        "}\n",
        "\n",
        "var data = new Promise(resolve=>{\n",
        "//recordButton.addEventListener(\"click\", toggleRecording);\n",
        "recordButton.onclick = ()=>{\n",
        "toggleRecording()\n",
        "\n",
        "sleep(2000).then(() => {\n",
        "  // wait 2000ms for the data to be available...\n",
        "  // ideally this should use something like await...\n",
        "  //console.log(\"Inside data:\" + base64data)\n",
        "  resolve(base64data.toString())\n",
        "\n",
        "});\n",
        "\n",
        "}\n",
        "});\n",
        "\n",
        "</script>\n",
        "\"\"\"\n",
        "\n",
        "def get_audio():\n",
        "  display(HTML(AUDIO_HTML))\n",
        "  data = eval_js(\"data\")\n",
        "  binary = b64decode(data.split(',')[1])\n",
        "\n",
        "  process = (ffmpeg\n",
        "    .input('pipe:0')\n",
        "    .output('pipe:1', format='wav')\n",
        "    .run_async(pipe_stdin=True, pipe_stdout=True, pipe_stderr=True, quiet=True, overwrite_output=True)\n",
        "  )\n",
        "  output, err = process.communicate(input=binary)\n",
        "\n",
        "  riff_chunk_size = len(output) - 8\n",
        "  # Break up the chunk size into four bytes, held in b.\n",
        "  q = riff_chunk_size\n",
        "  b = []\n",
        "  for i in range(4):\n",
        "      q, r = divmod(q, 256)\n",
        "      b.append(r)\n",
        "\n",
        "  # Replace bytes 4:8 in proc.stdout with the actual size of the RIFF chunk.\n",
        "  riff = output[:4] + bytes(b) + output[8:]\n",
        "\n",
        "  sr, audio = wav_read(io.BytesIO(riff))\n",
        "\n",
        "  return audio, sr\n",
        "\n",
        ""
      ],
      "metadata": {
        "colab": {
          "base_uri": "https://localhost:8080/"
        },
        "id": "rucXS-Pofczv",
        "outputId": "53ed50a5-a68f-4955-864f-fe0652fce44d"
      },
      "execution_count": 81,
      "outputs": [
        {
          "output_type": "stream",
          "name": "stdout",
          "text": [
            "Requirement already satisfied: ffmpeg-python in /usr/local/lib/python3.11/dist-packages (0.2.0)\n",
            "Requirement already satisfied: future in /usr/local/lib/python3.11/dist-packages (from ffmpeg-python) (1.0.0)\n"
          ]
        }
      ]
    },
    {
      "cell_type": "code",
      "source": [
        "#speak converted audio to text\n",
        "def speak(text):\n",
        "    tts = gTTS(text=text, lang='en')\n",
        "    filename = \"voice.mp3\"\n",
        "    try:\n",
        "        os.remove(filename)\n",
        "    except OSError:\n",
        "        pass\n",
        "    tts.save(filename)\n",
        "    playsound.playsound(filename)\n"
      ],
      "metadata": {
        "id": "kqXyDtN1ZYXQ"
      },
      "execution_count": 73,
      "outputs": []
    },
    {
      "cell_type": "code",
      "source": [
        "#function to respond to commands\n",
        "def respond(text):\n",
        "    # Convert the tuple to a string for printing\n",
        "    print(\"Text from get audio \" + str(text))\n",
        "    if 'youtube' in str(text):\n",
        "        speak(\"What do you want to search for?\")\n",
        "        keyword = get_audio()\n",
        "        if keyword!= '':\n",
        "            url = f\"https://www.youtube.com/results?search_query={keyword}\"\n",
        "            webbrowser.get().open(url)\n",
        "            speak(f\"Here is what I have found for {keyword} on youtube\")\n",
        "    elif 'search' in str(text):\n",
        "        speak(\"What do you want to search for?\")\n",
        "        query = get_audio()\n",
        "        if query !='':\n",
        "            result = wikipedia.summary(query, sentences=3)\n",
        "            speak(\"According to wikipedia\")\n",
        "            print(result)\n",
        "            speak(result)\n",
        "    elif 'joke' in str(text):\n",
        "        speak(pyjokes.get_joke())\n",
        "    elif 'empty recycle bin' in str(text):\n",
        "        winshell.recycle_bin().empty(confirm=False, show_progress=False, sound=True)\n",
        "        speak(\"Recycle bin emptied\")\n",
        "    elif 'what time' in str(text):\n",
        "        strTime = datetime.today().strftime(\"%H:%M %p\")\n",
        "        print(strTime)\n",
        "        speak(strTime)\n",
        "    elif 'play music' in str(text) or 'play song' in str(text):\n",
        "        speak(\"Now playing...\")\n",
        "        music_dir = \"C:\\\\Users\\\\UserName\\\\Downloads\\\\Music\\\\\" #add your music directory here..\n",
        "        songs = os.listdir(music_dir)\n",
        "        #counter = 0\n",
        "        print(songs)\n",
        "        playmusic(music_dir + \"\\\\\" + songs[0])\n",
        "    elif 'stop music' in str(text):\n",
        "        speak(\"Stopping playback.\")\n",
        "        stopmusic()\n",
        "    elif 'exit' in str(text):\n",
        "        speak(\"Goodbye, till next time\")\n",
        "        exit()\n",
        "#play music\n",
        "def playmusic(song):\n",
        "    mixer.init()\n",
        "    mixer.music.load(song)\n",
        "    mixer.music.play()\n",
        "#stop music\n",
        "def stopmusic():\n",
        "    mixer.music.stop()\n",
        "\n"
      ],
      "metadata": {
        "id": "K3DPC8meZcnO"
      },
      "execution_count": 74,
      "outputs": []
    },
    {
      "cell_type": "code",
      "source": [
        "#let's try it\n",
        "#text = get_audio()\n",
        "#speak(text)\n",
        "while True:\n",
        "    print(\"I am listening...\")\n",
        "    text = get_audio()\n",
        "    respond(text)"
      ],
      "metadata": {
        "id": "YacipEIsZrHN"
      },
      "execution_count": null,
      "outputs": []
    }
  ]
}