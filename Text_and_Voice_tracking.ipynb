{
  "nbformat": 4,
  "nbformat_minor": 0,
  "metadata": {
    "colab": {
      "provenance": [],
      "authorship_tag": "ABX9TyO6illqsJ62gw53Ol9jlK62",
      "include_colab_link": true
    },
    "kernelspec": {
      "name": "python3",
      "display_name": "Python 3"
    },
    "language_info": {
      "name": "python"
    }
  },
  "cells": [
    {
      "cell_type": "markdown",
      "metadata": {
        "id": "view-in-github",
        "colab_type": "text"
      },
      "source": [
        "<a href=\"https://colab.research.google.com/github/leticialsilva-exe/MachineLearning_studies/blob/main/Text_and_Voice_tracking.ipynb\" target=\"_parent\"><img src=\"https://colab.research.google.com/assets/colab-badge.svg\" alt=\"Open In Colab\"/></a>"
      ]
    },
    {
      "cell_type": "markdown",
      "source": [
        "Um módulo para transformação de texto em áudio (text to speech);\n"
      ],
      "metadata": {
        "id": "hy7htvqFHt4W"
      }
    },
    {
      "cell_type": "code",
      "execution_count": null,
      "metadata": {
        "colab": {
          "base_uri": "https://localhost:8080/",
          "height": 191
        },
        "id": "x1Dtz41MHmwF",
        "outputId": "15adb116-cc9d-4f3b-cae1-28e32543214e"
      },
      "outputs": [
        {
          "output_type": "stream",
          "name": "stdout",
          "text": [
            "Requirement already satisfied: gTTS in /usr/local/lib/python3.11/dist-packages (2.5.4)\n",
            "Requirement already satisfied: requests<3,>=2.27 in /usr/local/lib/python3.11/dist-packages (from gTTS) (2.32.3)\n",
            "Requirement already satisfied: click<8.2,>=7.1 in /usr/local/lib/python3.11/dist-packages (from gTTS) (8.1.8)\n",
            "Requirement already satisfied: charset-normalizer<4,>=2 in /usr/local/lib/python3.11/dist-packages (from requests<3,>=2.27->gTTS) (3.4.1)\n",
            "Requirement already satisfied: idna<4,>=2.5 in /usr/local/lib/python3.11/dist-packages (from requests<3,>=2.27->gTTS) (3.10)\n",
            "Requirement already satisfied: urllib3<3,>=1.21.1 in /usr/local/lib/python3.11/dist-packages (from requests<3,>=2.27->gTTS) (2.3.0)\n",
            "Requirement already satisfied: certifi>=2017.4.17 in /usr/local/lib/python3.11/dist-packages (from requests<3,>=2.27->gTTS) (2024.12.14)\n"
          ]
        },
        {
          "output_type": "execute_result",
          "data": {
            "text/plain": [
              "<IPython.lib.display.Audio object>"
            ],
            "text/html": [
              "\n",
              "                <audio  controls=\"controls\" >\n",
              "                    <source src=\"data:audio/x-wav;base64,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\" type=\"audio/x-wav\" />\n",
              "                    Your browser does not support the audio element.\n",
              "                </audio>\n",
              "              "
            ]
          },
          "metadata": {},
          "execution_count": 11
        }
      ],
      "source": [
        "\n",
        "# instalar a biblioteca gTTS !pip install gTTS\n",
        "\n",
        "!pip install gTTS\n",
        "\n",
        "from gtts import gTTS\n",
        "\n",
        "text_to_say = \"How are you doing?\"\n",
        "\n",
        "language = \"en\"\n",
        "\n",
        "gtts_object = gTTS(text = text_to_say,\n",
        "                  lang = language,\n",
        "                  slow = False)\n",
        "\n",
        "gtts_object.save(\"/content/gtts.wav\")\n",
        "\n",
        "from IPython.display import Audio\n",
        "\n",
        "Audio(\"/content/gtts.wav\")\n",
        "\n",
        "portuguese_text = \"Hoje tive aulas de direçao\"\n",
        "\n",
        "portuguese_language = \"pt\"\n",
        "\n",
        "portuguese_gtts_object = gTTS(text = portuguese_text,\n",
        "                          lang = portuguese_language,\n",
        "                          slow = False)\n",
        "\n",
        "portuguese_gtts_object.save(\"/content/portuguese.wav\")\n",
        "\n",
        "Audio(\"/content/portuguese.wav\")\n"
      ]
    },
    {
      "cell_type": "markdown",
      "source": [
        "Um módulo para transformação de fala (linguagem natural humana) em texto (speech to text);\n",
        "\n",
        "O módulo 2, deve acionar por comando de voz algumas funções automatizadas, como por exemplo: abrir uma pesquisa no Wikipedia, abrir o Youtube,   apresentar a localização da farmácia mais próxima."
      ],
      "metadata": {
        "id": "qHUWXgtHKpXq"
      }
    },
    {
      "cell_type": "code",
      "source": [
        "#import section\n",
        "!pip install SpeechRecognition\n",
        "!apt install libasound2-dev portaudio19-dev libportaudio2 libportaudiocpp0 ffmpeg\n",
        "!pip install pyaudio\n",
        "!pip install gtts\n",
        "!pip install playsound\n",
        "!pip install pyjokes\n",
        "!pip install wikipedia\n",
        "#!pip install winshell\n",
        "import speech_recognition as sr\n",
        "from gtts import gTTS\n",
        "import os\n",
        "from datetime import datetime\n",
        "import playsound\n",
        "import pyjokes\n",
        "import wikipedia\n",
        "import pyaudio\n",
        "import webbrowser\n",
        "#import winshell\n",
        "from pygame import mixer"
      ],
      "metadata": {
        "colab": {
          "base_uri": "https://localhost:8080/"
        },
        "id": "z0v0TnjQKpG0",
        "outputId": "3e23367c-7fce-4e9c-c96d-86b2ce2a6b7f",
        "collapsed": true
      },
      "execution_count": null,
      "outputs": [
        {
          "output_type": "stream",
          "name": "stdout",
          "text": [
            "Requirement already satisfied: SpeechRecognition in /usr/local/lib/python3.11/dist-packages (3.14.0)\n",
            "Requirement already satisfied: typing-extensions in /usr/local/lib/python3.11/dist-packages (from SpeechRecognition) (4.12.2)\n",
            "Reading package lists... Done\n",
            "Building dependency tree... Done\n",
            "Reading state information... Done\n",
            "libasound2-dev is already the newest version (1.2.6.1-1ubuntu1).\n",
            "libportaudio2 is already the newest version (19.6.0-1.1).\n",
            "libportaudiocpp0 is already the newest version (19.6.0-1.1).\n",
            "portaudio19-dev is already the newest version (19.6.0-1.1).\n",
            "ffmpeg is already the newest version (7:4.4.2-0ubuntu0.22.04.1).\n",
            "0 upgraded, 0 newly installed, 0 to remove and 49 not upgraded.\n",
            "Requirement already satisfied: pyaudio in /usr/local/lib/python3.11/dist-packages (0.2.14)\n",
            "Requirement already satisfied: gtts in /usr/local/lib/python3.11/dist-packages (2.5.4)\n",
            "Requirement already satisfied: requests<3,>=2.27 in /usr/local/lib/python3.11/dist-packages (from gtts) (2.32.3)\n",
            "Requirement already satisfied: click<8.2,>=7.1 in /usr/local/lib/python3.11/dist-packages (from gtts) (8.1.8)\n",
            "Requirement already satisfied: charset-normalizer<4,>=2 in /usr/local/lib/python3.11/dist-packages (from requests<3,>=2.27->gtts) (3.4.1)\n",
            "Requirement already satisfied: idna<4,>=2.5 in /usr/local/lib/python3.11/dist-packages (from requests<3,>=2.27->gtts) (3.10)\n",
            "Requirement already satisfied: urllib3<3,>=1.21.1 in /usr/local/lib/python3.11/dist-packages (from requests<3,>=2.27->gtts) (2.3.0)\n",
            "Requirement already satisfied: certifi>=2017.4.17 in /usr/local/lib/python3.11/dist-packages (from requests<3,>=2.27->gtts) (2024.12.14)\n",
            "Requirement already satisfied: playsound in /usr/local/lib/python3.11/dist-packages (1.3.0)\n",
            "Requirement already satisfied: pyjokes in /usr/local/lib/python3.11/dist-packages (0.8.3)\n",
            "Requirement already satisfied: wikipedia in /usr/local/lib/python3.11/dist-packages (1.4.0)\n",
            "Requirement already satisfied: beautifulsoup4 in /usr/local/lib/python3.11/dist-packages (from wikipedia) (4.12.3)\n",
            "Requirement already satisfied: requests<3.0.0,>=2.0.0 in /usr/local/lib/python3.11/dist-packages (from wikipedia) (2.32.3)\n",
            "Requirement already satisfied: charset-normalizer<4,>=2 in /usr/local/lib/python3.11/dist-packages (from requests<3.0.0,>=2.0.0->wikipedia) (3.4.1)\n",
            "Requirement already satisfied: idna<4,>=2.5 in /usr/local/lib/python3.11/dist-packages (from requests<3.0.0,>=2.0.0->wikipedia) (3.10)\n",
            "Requirement already satisfied: urllib3<3,>=1.21.1 in /usr/local/lib/python3.11/dist-packages (from requests<3.0.0,>=2.0.0->wikipedia) (2.3.0)\n",
            "Requirement already satisfied: certifi>=2017.4.17 in /usr/local/lib/python3.11/dist-packages (from requests<3.0.0,>=2.0.0->wikipedia) (2024.12.14)\n",
            "Requirement already satisfied: soupsieve>1.2 in /usr/local/lib/python3.11/dist-packages (from beautifulsoup4->wikipedia) (2.6)\n",
            "Requirement already satisfied: pygame in /usr/local/lib/python3.11/dist-packages (2.6.1)\n",
            "Reading package lists... Done\n",
            "Building dependency tree... Done\n",
            "Reading state information... Done\n",
            "The following additional packages will be installed:\n",
            "  libatopology2 libfftw3-single3\n",
            "Suggested packages:\n",
            "  dialog libfftw3-bin libfftw3-dev\n",
            "The following NEW packages will be installed:\n",
            "  alsa-utils libatopology2 libfftw3-single3\n",
            "0 upgraded, 3 newly installed, 0 to remove and 49 not upgraded.\n",
            "Need to get 2,028 kB of archives.\n",
            "After this operation, 5,142 kB of additional disk space will be used.\n",
            "Get:1 http://archive.ubuntu.com/ubuntu jammy/main amd64 libatopology2 amd64 1.2.6.1-1ubuntu1 [51.3 kB]\n",
            "Get:2 http://archive.ubuntu.com/ubuntu jammy/main amd64 libfftw3-single3 amd64 3.3.8-2ubuntu8 [800 kB]\n",
            "Get:3 http://archive.ubuntu.com/ubuntu jammy/main amd64 alsa-utils amd64 1.2.6-1ubuntu1 [1,177 kB]\n",
            "Fetched 2,028 kB in 1s (2,382 kB/s)\n",
            "Selecting previously unselected package libatopology2:amd64.\n",
            "(Reading database ... 124609 files and directories currently installed.)\n",
            "Preparing to unpack .../libatopology2_1.2.6.1-1ubuntu1_amd64.deb ...\n",
            "Unpacking libatopology2:amd64 (1.2.6.1-1ubuntu1) ...\n",
            "Selecting previously unselected package libfftw3-single3:amd64.\n",
            "Preparing to unpack .../libfftw3-single3_3.3.8-2ubuntu8_amd64.deb ...\n",
            "Unpacking libfftw3-single3:amd64 (3.3.8-2ubuntu8) ...\n",
            "Selecting previously unselected package alsa-utils.\n",
            "Preparing to unpack .../alsa-utils_1.2.6-1ubuntu1_amd64.deb ...\n",
            "Unpacking alsa-utils (1.2.6-1ubuntu1) ...\n",
            "Setting up libfftw3-single3:amd64 (3.3.8-2ubuntu8) ...\n",
            "Setting up libatopology2:amd64 (1.2.6.1-1ubuntu1) ...\n",
            "Setting up alsa-utils (1.2.6-1ubuntu1) ...\n",
            "Processing triggers for man-db (2.10.2-1) ...\n",
            "Processing triggers for libc-bin (2.35-0ubuntu3.4) ...\n",
            "/sbin/ldconfig.real: /usr/local/lib/libur_adapter_opencl.so.0 is not a symbolic link\n",
            "\n",
            "/sbin/ldconfig.real: /usr/local/lib/libtcm.so.1 is not a symbolic link\n",
            "\n",
            "/sbin/ldconfig.real: /usr/local/lib/libtbb.so.12 is not a symbolic link\n",
            "\n",
            "/sbin/ldconfig.real: /usr/local/lib/libtbbbind_2_5.so.3 is not a symbolic link\n",
            "\n",
            "/sbin/ldconfig.real: /usr/local/lib/libumf.so.0 is not a symbolic link\n",
            "\n",
            "/sbin/ldconfig.real: /usr/local/lib/libur_adapter_level_zero.so.0 is not a symbolic link\n",
            "\n",
            "/sbin/ldconfig.real: /usr/local/lib/libur_loader.so.0 is not a symbolic link\n",
            "\n",
            "/sbin/ldconfig.real: /usr/local/lib/libtbbmalloc.so.2 is not a symbolic link\n",
            "\n",
            "/sbin/ldconfig.real: /usr/local/lib/libtbbmalloc_proxy.so.2 is not a symbolic link\n",
            "\n",
            "/sbin/ldconfig.real: /usr/local/lib/libtcm_debug.so.1 is not a symbolic link\n",
            "\n",
            "/sbin/ldconfig.real: /usr/local/lib/libtbbbind_2_0.so.3 is not a symbolic link\n",
            "\n",
            "/sbin/ldconfig.real: /usr/local/lib/libhwloc.so.15 is not a symbolic link\n",
            "\n",
            "/sbin/ldconfig.real: /usr/local/lib/libtbbbind.so.3 is not a symbolic link\n",
            "\n"
          ]
        }
      ]
    },
    {
      "cell_type": "code",
      "source": [
        "!apt-get update\n",
        "!apt-get install alsa-utils"
      ],
      "metadata": {
        "colab": {
          "base_uri": "https://localhost:8080/"
        },
        "id": "EVrqgLZbcCpY",
        "outputId": "b8e03ae4-a0c1-49cb-d7e4-ce2bc5d7896d"
      },
      "execution_count": 60,
      "outputs": [
        {
          "output_type": "stream",
          "name": "stdout",
          "text": [
            "\r0% [Working]\r            \rHit:1 http://security.ubuntu.com/ubuntu jammy-security InRelease\n",
            "\r0% [Waiting for headers] [Connected to cloud.r-project.org (3.171.85.66)] [Connected to r2u.stat.ill\r                                                                                                    \rHit:2 http://archive.ubuntu.com/ubuntu jammy InRelease\n",
            "\r                                                                                                    \rHit:3 http://archive.ubuntu.com/ubuntu jammy-updates InRelease\n",
            "\r                                                                                                    \rHit:4 http://archive.ubuntu.com/ubuntu jammy-backports InRelease\n",
            "\r0% [Waiting for headers] [Connected to r2u.stat.illinois.edu (192.17.190.167)] [Connected to develop\r                                                                                                    \rHit:5 https://cloud.r-project.org/bin/linux/ubuntu jammy-cran40/ InRelease\n",
            "\r0% [Connected to r2u.stat.illinois.edu (192.17.190.167)] [Connected to developer.download.nvidia.com\r                                                                                                    \rHit:6 https://developer.download.nvidia.com/compute/cuda/repos/ubuntu2204/x86_64  InRelease\n",
            "Hit:7 https://r2u.stat.illinois.edu/ubuntu jammy InRelease\n",
            "Hit:8 https://ppa.launchpadcontent.net/deadsnakes/ppa/ubuntu jammy InRelease\n",
            "Hit:9 https://ppa.launchpadcontent.net/graphics-drivers/ppa/ubuntu jammy InRelease\n",
            "Hit:10 https://ppa.launchpadcontent.net/ubuntugis/ppa/ubuntu jammy InRelease\n",
            "Reading package lists... Done\n",
            "W: Skipping acquire of configured file 'main/source/Sources' as repository 'https://r2u.stat.illinois.edu/ubuntu jammy InRelease' does not seem to provide it (sources.list entry misspelt?)\n",
            "Reading package lists... Done\n",
            "Building dependency tree... Done\n",
            "Reading state information... Done\n",
            "alsa-utils is already the newest version (1.2.6-1ubuntu1).\n",
            "0 upgraded, 0 newly installed, 0 to remove and 52 not upgraded.\n"
          ]
        }
      ]
    },
    {
      "cell_type": "code",
      "source": [
        "!pip install ffmpeg-python\n",
        "from IPython.display import HTML, Audio\n",
        "from google.colab.output import eval_js\n",
        "from base64 import b64decode\n",
        "import numpy as np\n",
        "from scipy.io.wavfile import read as wav_read\n",
        "import io\n",
        "import ffmpeg\n",
        "\n",
        "AUDIO_HTML = \"\"\"\n",
        "<script>\n",
        "var my_div = document.createElement(\"DIV\");\n",
        "var my_p = document.createElement(\"P\");\n",
        "var my_btn = document.createElement(\"BUTTON\");\n",
        "var t = document.createTextNode(\"Press to start recording\");\n",
        "\n",
        "my_btn.appendChild(t);\n",
        "//my_p.appendChild(my_btn);\n",
        "my_div.appendChild(my_btn);\n",
        "document.body.appendChild(my_div);\n",
        "\n",
        "var base64data = 0;\n",
        "var reader;\n",
        "var recorder, gumStream;\n",
        "var recordButton = my_btn;\n",
        "\n",
        "var handleSuccess = function(stream) {\n",
        "  gumStream = stream;\n",
        "  var options = {\n",
        "    //bitsPerSecond: 8000, //chrome seems to ignore, always 48k\n",
        "    mimeType : 'audio/webm;codecs=opus'\n",
        "    //mimeType : 'audio/webm;codecs=pcm'\n",
        "  };\n",
        "  //recorder = new MediaRecorder(stream, options);\n",
        "  recorder = new MediaRecorder(stream);\n",
        "  recorder.ondataavailable = function(e) {\n",
        "    var url = URL.createObjectURL(e.data);\n",
        "    var preview = document.createElement('audio');\n",
        "    preview.controls = true;\n",
        "    preview.src = url;\n",
        "    document.body.appendChild(preview);\n",
        "\n",
        "    reader = new FileReader();\n",
        "    reader.readAsDataURL(e.data);\n",
        "    reader.onloadend = function() {\n",
        "      base64data = reader.result;\n",
        "      //console.log(\"Inside FileReader:\" + base64data);\n",
        "    }\n",
        "  };\n",
        "  recorder.start();\n",
        "  };\n",
        "\n",
        "recordButton.innerText = \"Recording... press to stop\";\n",
        "\n",
        "navigator.mediaDevices.getUserMedia({audio: true}).then(handleSuccess);\n",
        "\n",
        "\n",
        "function toggleRecording() {\n",
        "  if (recorder && recorder.state == \"recording\") {\n",
        "      recorder.stop();\n",
        "      gumStream.getAudioTracks()[0].stop();\n",
        "      recordButton.innerText = \"Saving the recording... pls wait!\"\n",
        "  }\n",
        "}\n",
        "\n",
        "// https://stackoverflow.com/a/951057\n",
        "function sleep(ms) {\n",
        "  return new Promise(resolve => setTimeout(resolve, ms));\n",
        "}\n",
        "\n",
        "var data = new Promise(resolve=>{\n",
        "//recordButton.addEventListener(\"click\", toggleRecording);\n",
        "recordButton.onclick = ()=>{\n",
        "toggleRecording()\n",
        "\n",
        "sleep(2000).then(() => {\n",
        "  // wait 2000ms for the data to be available...\n",
        "  // ideally this should use something like await...\n",
        "  //console.log(\"Inside data:\" + base64data)\n",
        "  resolve(base64data.toString())\n",
        "\n",
        "});\n",
        "\n",
        "}\n",
        "});\n",
        "\n",
        "</script>\n",
        "\"\"\"\n",
        "\n",
        "def get_audio():\n",
        "  display(HTML(AUDIO_HTML))\n",
        "  data = eval_js(\"data\")\n",
        "  binary = b64decode(data.split(',')[1])\n",
        "\n",
        "  process = (ffmpeg\n",
        "    .input('pipe:0')\n",
        "    .output('pipe:1', format='wav')\n",
        "    .run_async(pipe_stdin=True, pipe_stdout=True, pipe_stderr=True, quiet=True, overwrite_output=True)\n",
        "  )\n",
        "  output, err = process.communicate(input=binary)\n",
        "\n",
        "  riff_chunk_size = len(output) - 8\n",
        "  # Break up the chunk size into four bytes, held in b.\n",
        "  q = riff_chunk_size\n",
        "  b = []\n",
        "  for i in range(4):\n",
        "      q, r = divmod(q, 256)\n",
        "      b.append(r)\n",
        "\n",
        "  # Replace bytes 4:8 in proc.stdout with the actual size of the RIFF chunk.\n",
        "  riff = output[:4] + bytes(b) + output[8:]\n",
        "\n",
        "  sr, audio = wav_read(io.BytesIO(riff))\n",
        "\n",
        "  return audio, sr"
      ],
      "metadata": {
        "colab": {
          "base_uri": "https://localhost:8080/"
        },
        "id": "rucXS-Pofczv",
        "outputId": "04fe94df-297c-4987-f26a-05dbfb682d39"
      },
      "execution_count": 71,
      "outputs": [
        {
          "output_type": "stream",
          "name": "stdout",
          "text": [
            "Requirement already satisfied: ffmpeg-python in /usr/local/lib/python3.11/dist-packages (0.2.0)\n",
            "Requirement already satisfied: future in /usr/local/lib/python3.11/dist-packages (from ffmpeg-python) (1.0.0)\n"
          ]
        }
      ]
    },
    {
      "cell_type": "code",
      "source": [
        "#speak converted audio to text\n",
        "def speak(text):\n",
        "    tts = gTTS(text=text, lang='en')\n",
        "    filename = \"voice.mp3\"\n",
        "    try:\n",
        "        os.remove(filename)\n",
        "    except OSError:\n",
        "        pass\n",
        "    tts.save(filename)\n",
        "    playsound.playsound(filename)\n"
      ],
      "metadata": {
        "id": "kqXyDtN1ZYXQ"
      },
      "execution_count": 73,
      "outputs": []
    },
    {
      "cell_type": "code",
      "source": [
        "#function to respond to commands\n",
        "def respond(text):\n",
        "    # Convert the tuple to a string for printing\n",
        "    print(\"Text from get audio \" + str(text))\n",
        "    if 'youtube' in str(text):\n",
        "        speak(\"What do you want to search for?\")\n",
        "        keyword = get_audio()\n",
        "        if keyword!= '':\n",
        "            url = f\"https://www.youtube.com/results?search_query={keyword}\"\n",
        "            webbrowser.get().open(url)\n",
        "            speak(f\"Here is what I have found for {keyword} on youtube\")\n",
        "    elif 'search' in str(text):\n",
        "        speak(\"What do you want to search for?\")\n",
        "        query = get_audio()\n",
        "        if query !='':\n",
        "            result = wikipedia.summary(query, sentences=3)\n",
        "            speak(\"According to wikipedia\")\n",
        "            print(result)\n",
        "            speak(result)\n",
        "    elif 'joke' in str(text):\n",
        "        speak(pyjokes.get_joke())\n",
        "    elif 'empty recycle bin' in str(text):\n",
        "        winshell.recycle_bin().empty(confirm=False, show_progress=False, sound=True)\n",
        "        speak(\"Recycle bin emptied\")\n",
        "    elif 'what time' in str(text):\n",
        "        strTime = datetime.today().strftime(\"%H:%M %p\")\n",
        "        print(strTime)\n",
        "        speak(strTime)\n",
        "    elif 'play music' in str(text) or 'play song' in str(text):\n",
        "        speak(\"Now playing...\")\n",
        "        music_dir = \"C:\\\\Users\\\\UserName\\\\Downloads\\\\Music\\\\\" #add your music directory here..\n",
        "        songs = os.listdir(music_dir)\n",
        "        #counter = 0\n",
        "        print(songs)\n",
        "        playmusic(music_dir + \"\\\\\" + songs[0])\n",
        "    elif 'stop music' in str(text):\n",
        "        speak(\"Stopping playback.\")\n",
        "        stopmusic()\n",
        "    elif 'exit' in str(text):\n",
        "        speak(\"Goodbye, till next time\")\n",
        "        exit()\n",
        "#play music\n",
        "def playmusic(song):\n",
        "    mixer.init()\n",
        "    mixer.music.load(song)\n",
        "    mixer.music.play()\n",
        "#stop music\n",
        "def stopmusic():\n",
        "    mixer.music.stop()\n",
        "\n"
      ],
      "metadata": {
        "id": "K3DPC8meZcnO"
      },
      "execution_count": 74,
      "outputs": []
    },
    {
      "cell_type": "code",
      "source": [
        "#let's try it\n",
        "#text = get_audio()\n",
        "#speak(text)\n",
        "while True:\n",
        "    print(\"I am listening...\")\n",
        "    text = get_audio()\n",
        "    respond(text)"
      ],
      "metadata": {
        "id": "YacipEIsZrHN"
      },
      "execution_count": null,
      "outputs": []
    }
  ]
}