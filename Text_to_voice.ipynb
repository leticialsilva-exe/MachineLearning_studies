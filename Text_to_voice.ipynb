{
  "nbformat": 4,
  "nbformat_minor": 0,
  "metadata": {
    "colab": {
      "provenance": [],
      "authorship_tag": "ABX9TyMX+RjNRcOz3K89tks6Xgzm",
      "include_colab_link": true
    },
    "kernelspec": {
      "name": "python3",
      "display_name": "Python 3"
    },
    "language_info": {
      "name": "python"
    }
  },
  "cells": [
    {
      "cell_type": "markdown",
      "metadata": {
        "id": "view-in-github",
        "colab_type": "text"
      },
      "source": [
        "<a href=\"https://colab.research.google.com/github/leticialsilva-exe/MachineLearning_studies/blob/main/Text_to_voice.ipynb\" target=\"_parent\"><img src=\"https://colab.research.google.com/assets/colab-badge.svg\" alt=\"Open In Colab\"/></a>"
      ]
    },
    {
      "cell_type": "markdown",
      "source": [
        "Um módulo para transformação de texto em áudio (text to speech);\n"
      ],
      "metadata": {
        "id": "hy7htvqFHt4W"
      }
    },
    {
      "cell_type": "code",
      "execution_count": 2,
      "metadata": {
        "colab": {
          "base_uri": "https://localhost:8080/"
        },
        "id": "x1Dtz41MHmwF",
        "outputId": "f504fe84-4ece-44b5-cc81-ed7f9b15099b",
        "collapsed": true
      },
      "outputs": [
        {
          "output_type": "stream",
          "name": "stdout",
          "text": [
            "Collecting gTTS\n",
            "  Downloading gTTS-2.5.4-py3-none-any.whl.metadata (4.1 kB)\n",
            "Requirement already satisfied: requests<3,>=2.27 in /usr/local/lib/python3.11/dist-packages (from gTTS) (2.32.3)\n",
            "Requirement already satisfied: click<8.2,>=7.1 in /usr/local/lib/python3.11/dist-packages (from gTTS) (8.1.8)\n",
            "Requirement already satisfied: charset-normalizer<4,>=2 in /usr/local/lib/python3.11/dist-packages (from requests<3,>=2.27->gTTS) (3.4.1)\n",
            "Requirement already satisfied: idna<4,>=2.5 in /usr/local/lib/python3.11/dist-packages (from requests<3,>=2.27->gTTS) (3.10)\n",
            "Requirement already satisfied: urllib3<3,>=1.21.1 in /usr/local/lib/python3.11/dist-packages (from requests<3,>=2.27->gTTS) (2.3.0)\n",
            "Requirement already satisfied: certifi>=2017.4.17 in /usr/local/lib/python3.11/dist-packages (from requests<3,>=2.27->gTTS) (2024.12.14)\n",
            "Downloading gTTS-2.5.4-py3-none-any.whl (29 kB)\n",
            "Installing collected packages: gTTS\n",
            "Successfully installed gTTS-2.5.4\n"
          ]
        }
      ],
      "source": [
        "\n",
        "# instalar a biblioteca gTTS !pip install gTTS\n",
        "\n",
        "!pip install gTTS\n",
        "\n",
        "from gtts import gTTS\n",
        "from IPython.display import Audio\n",
        "\n",
        "text_to_say = \"what's up for tonight?\"\n",
        "language = \"en\"\n",
        "gtts_object = gTTS(text = text_to_say,\n",
        "                  lang = language,\n",
        "                  slow = False)\n",
        "\n",
        "gtts_object.save(\"/content/english.mp3\")\n",
        "\n",
        "########## PORTUGUESE TEXT\n",
        "portuguese_text = \"Hoje tive aulas de direçao\"\n",
        "portuguese_language = \"pt\"\n",
        "portuguese_gtts_object = gTTS(text = portuguese_text,\n",
        "                          lang = portuguese_language,\n",
        "                          slow = False)\n",
        "\n",
        "portuguese_gtts_object.save(\"/content/portuguese.mp3\")"
      ]
    },
    {
      "cell_type": "code",
      "source": [
        "Audio(\"/content/english.mp3\")\n"
      ],
      "metadata": {
        "colab": {
          "base_uri": "https://localhost:8080/",
          "height": 75
        },
        "id": "6ic57q1LoV9X",
        "outputId": "4ee7a03c-59c4-4570-9113-4c52820c0b79"
      },
      "execution_count": 3,
      "outputs": [
        {
          "output_type": "execute_result",
          "data": {
            "text/plain": [
              "<IPython.lib.display.Audio object>"
            ],
            "text/html": [
              "\n",
              "                <audio  controls=\"controls\" >\n",
              "                    <source src=\"data:audio/mpeg;base64,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\" type=\"audio/mpeg\" />\n",
              "                    Your browser does not support the audio element.\n",
              "                </audio>\n",
              "              "
            ]
          },
          "metadata": {},
          "execution_count": 3
        }
      ]
    }
  ]
}